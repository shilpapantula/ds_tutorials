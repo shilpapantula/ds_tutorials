{
 "cells": [
  {
   "cell_type": "code",
   "execution_count": 1,
   "metadata": {
    "collapsed": true
   },
   "outputs": [],
   "source": [
    "import pandas as pd\n",
    "import numpy as np"
   ]
  },
  {
   "cell_type": "code",
   "execution_count": 2,
   "metadata": {
    "collapsed": true
   },
   "outputs": [],
   "source": [
    "# importing datasets\n",
    "train_raw = pd.read_csv('train.csv')\n",
    "test_raw = pd.read_csv('test.csv')"
   ]
  },
  {
   "cell_type": "code",
   "execution_count": 3,
   "metadata": {
    "collapsed": false
   },
   "outputs": [],
   "source": [
    "# cleaning data\n",
    "# there are 128 columns\n",
    "# drop Medical_History_32, Medical_History_24, Medical_History_10 because of high volume of null values\n",
    "train_raw.drop('Medical_History_10', inplace=True, axis=1)\n",
    "train_raw.drop('Medical_History_24', inplace=True, axis=1)\n",
    "train_raw.drop('Medical_History_32', inplace=True, axis=1)\n",
    "\n",
    "test_raw.drop('Medical_History_10', inplace=True, axis=1)\n",
    "test_raw.drop('Medical_History_24', inplace=True, axis=1)\n",
    "test_raw.drop('Medical_History_32', inplace=True, axis=1)"
   ]
  },
  {
   "cell_type": "code",
   "execution_count": 4,
   "metadata": {
    "collapsed": true
   },
   "outputs": [],
   "source": [
    "# labelencode Product_Info_2\n",
    "from sklearn import preprocessing\n",
    "le = preprocessing.LabelEncoder()\n",
    "le.fit(train_raw.Product_Info_2)\n",
    "Product_Info_2_le = le.transform(train_raw.Product_Info_2)\n",
    "Product_Info_2_le1 = pd.DataFrame(Product_Info_2_le, columns=['Product_Info_2_le'])\n",
    "train_raw.drop('Product_Info_2', inplace=True, axis=1)\n",
    "train_raw['Product_Info_2'] = Product_Info_2_le1.Product_Info_2_le\n",
    "test_pro_info_2 = le.transform(test_raw.Product_Info_2)\n",
    "Product_Info_2_le1_test = pd.DataFrame(test_pro_info_2, columns=['Product_Info_2_le'])\n",
    "test_raw.drop('Product_Info_2', inplace=True, axis=1)\n",
    "test_raw['Product_Info_2'] = Product_Info_2_le1_test.Product_Info_2_le"
   ]
  },
  {
   "cell_type": "code",
   "execution_count": 5,
   "metadata": {
    "collapsed": false
   },
   "outputs": [],
   "source": [
    "# processing medical keyword\n",
    "filter_col = [col for col in list(train_raw) if col.startswith('Medical_Keyword')]\n",
    "sum_med = train_raw[filter_col]\n",
    "train_raw['Medical_Keyword_sum'] = sum_med.sum(axis=1)\n",
    "train_raw.drop(filter_col, axis=1, inplace=True)\n",
    "sum_med_te = test_raw[filter_col]\n",
    "test_raw['Medical_Keyword_sum'] = sum_med_te.sum(axis=1)\n",
    "test_raw.drop(filter_col, axis=1, inplace=True)"
   ]
  },
  {
   "cell_type": "code",
   "execution_count": 6,
   "metadata": {
    "collapsed": false
   },
   "outputs": [
    {
     "name": "stdout",
     "output_type": "stream",
     "text": [
      "Employment_Info_1 19\n",
      "Employment_Info_4 6779\n",
      "Employment_Info_6 10854\n",
      "Insurance_History_5 25396\n",
      "Family_Hist_2 28656\n",
      "Family_Hist_3 34241\n",
      "Family_Hist_4 19184\n",
      "Family_Hist_5 41811\n",
      "Medical_History_1 8889\n",
      "Medical_History_15 44596\n"
     ]
    }
   ],
   "source": [
    "# impute missing values\n",
    "for col in train_raw.columns:\n",
    "    if train_raw[col].isnull().any():\n",
    "        print col, train_raw[col].isnull().sum()"
   ]
  },
  {
   "cell_type": "code",
   "execution_count": 7,
   "metadata": {
    "collapsed": false
   },
   "outputs": [],
   "source": [
    "y = train_raw.Response\n",
    "columns = list(train_raw.columns.values.ravel())\n",
    "columns.remove('Response')\n",
    "columns.remove('Medical_History_15')\n",
    "columns.remove('Family_Hist_5')\n",
    "columns.remove('Family_Hist_3')\n",
    "columns.remove('Family_Hist_2')\n",
    "columns.remove('Insurance_History_5')\n",
    "columns.remove('Family_Hist_4')\n",
    "columns.remove('Employment_Info_6')\n",
    "columns.remove('Medical_History_1')\n",
    "columns.remove('Employment_Info_4')\n",
    "columns.remove('Employment_Info_1')"
   ]
  },
  {
   "cell_type": "code",
   "execution_count": 8,
   "metadata": {
    "collapsed": true
   },
   "outputs": [],
   "source": [
    "columns.append('Employment_Info_1')"
   ]
  },
  {
   "cell_type": "code",
   "execution_count": 16,
   "metadata": {
    "collapsed": false
   },
   "outputs": [],
   "source": [
    "train = train_raw[columns]\n",
    "test = test_raw[columns]\n",
    "data = pd.concat([train, test])\n",
    "data_nonnull = data[data.Employment_Info_1.notnull()]\n",
    "data_null = data[data.Employment_Info_1.isnull()]"
   ]
  },
  {
   "cell_type": "code",
   "execution_count": 17,
   "metadata": {
    "collapsed": true
   },
   "outputs": [
    {
     "name": "stdout",
     "output_type": "stream",
     "text": [
      "<class 'pandas.core.frame.DataFrame'>\n",
      "Int64Index: 22 entries, 150 to 19647\n",
      "Data columns (total 68 columns):\n",
      "Id                     22 non-null int64\n",
      "Product_Info_1         22 non-null int64\n",
      "Product_Info_3         22 non-null int64\n",
      "Product_Info_4         22 non-null float64\n",
      "Product_Info_5         22 non-null int64\n",
      "Product_Info_6         22 non-null int64\n",
      "Product_Info_7         22 non-null int64\n",
      "Ins_Age                22 non-null float64\n",
      "Ht                     22 non-null float64\n",
      "Wt                     22 non-null float64\n",
      "BMI                    22 non-null float64\n",
      "Employment_Info_2      22 non-null int64\n",
      "Employment_Info_3      22 non-null int64\n",
      "Employment_Info_5      22 non-null int64\n",
      "InsuredInfo_1          22 non-null int64\n",
      "InsuredInfo_2          22 non-null int64\n",
      "InsuredInfo_3          22 non-null int64\n",
      "InsuredInfo_4          22 non-null int64\n",
      "InsuredInfo_5          22 non-null int64\n",
      "InsuredInfo_6          22 non-null int64\n",
      "InsuredInfo_7          22 non-null int64\n",
      "Insurance_History_1    22 non-null int64\n",
      "Insurance_History_2    22 non-null int64\n",
      "Insurance_History_3    22 non-null int64\n",
      "Insurance_History_4    22 non-null int64\n",
      "Insurance_History_7    22 non-null int64\n",
      "Insurance_History_8    22 non-null int64\n",
      "Insurance_History_9    22 non-null int64\n",
      "Family_Hist_1          22 non-null int64\n",
      "Medical_History_2      22 non-null int64\n",
      "Medical_History_3      22 non-null int64\n",
      "Medical_History_4      22 non-null int64\n",
      "Medical_History_5      22 non-null int64\n",
      "Medical_History_6      22 non-null int64\n",
      "Medical_History_7      22 non-null int64\n",
      "Medical_History_8      22 non-null int64\n",
      "Medical_History_9      22 non-null int64\n",
      "Medical_History_11     22 non-null int64\n",
      "Medical_History_12     22 non-null int64\n",
      "Medical_History_13     22 non-null int64\n",
      "Medical_History_14     22 non-null int64\n",
      "Medical_History_16     22 non-null int64\n",
      "Medical_History_17     22 non-null int64\n",
      "Medical_History_18     22 non-null int64\n",
      "Medical_History_19     22 non-null int64\n",
      "Medical_History_20     22 non-null int64\n",
      "Medical_History_21     22 non-null int64\n",
      "Medical_History_22     22 non-null int64\n",
      "Medical_History_23     22 non-null int64\n",
      "Medical_History_25     22 non-null int64\n",
      "Medical_History_26     22 non-null int64\n",
      "Medical_History_27     22 non-null int64\n",
      "Medical_History_28     22 non-null int64\n",
      "Medical_History_29     22 non-null int64\n",
      "Medical_History_30     22 non-null int64\n",
      "Medical_History_31     22 non-null int64\n",
      "Medical_History_33     22 non-null int64\n",
      "Medical_History_34     22 non-null int64\n",
      "Medical_History_35     22 non-null int64\n",
      "Medical_History_36     22 non-null int64\n",
      "Medical_History_37     22 non-null int64\n",
      "Medical_History_38     22 non-null int64\n",
      "Medical_History_39     22 non-null int64\n",
      "Medical_History_40     22 non-null int64\n",
      "Medical_History_41     22 non-null int64\n",
      "Product_Info_2         22 non-null int64\n",
      "Medical_Keyword_sum    22 non-null int64\n",
      "Employment_Info_1      0 non-null float64\n",
      "dtypes: float64(6), int64(62)\n",
      "memory usage: 11.9 KB\n"
     ]
    }
   ],
   "source": [
    "data_null.info()"
   ]
  },
  {
   "cell_type": "code",
   "execution_count": 18,
   "metadata": {
    "collapsed": false
   },
   "outputs": [],
   "source": [
    "# clustering to impute missing values\n",
    "from sklearn.cluster import KMeans\n",
    "cluster = KMeans(n_jobs=4)\n",
    "y_pred = cluster.fit_predict(data_nonnull)"
   ]
  },
  {
   "cell_type": "code",
   "execution_count": 19,
   "metadata": {
    "collapsed": false
   },
   "outputs": [
    {
     "data": {
      "text/plain": [
       "array([5, 5, 5, ..., 6, 6, 6], dtype=int32)"
      ]
     },
     "execution_count": 19,
     "metadata": {},
     "output_type": "execute_result"
    }
   ],
   "source": [
    "y_null = "
   ]
  },
  {
   "cell_type": "code",
   "execution_count": null,
   "metadata": {
    "collapsed": true
   },
   "outputs": [],
   "source": []
  }
 ],
 "metadata": {
  "kernelspec": {
   "display_name": "Python 2",
   "language": "python",
   "name": "python2"
  },
  "language_info": {
   "codemirror_mode": {
    "name": "ipython",
    "version": 2
   },
   "file_extension": ".py",
   "mimetype": "text/x-python",
   "name": "python",
   "nbconvert_exporter": "python",
   "pygments_lexer": "ipython2",
   "version": "2.7.10"
  }
 },
 "nbformat": 4,
 "nbformat_minor": 0
}
